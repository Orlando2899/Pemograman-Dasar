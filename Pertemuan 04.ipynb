{
  "cells": [
    {
      "cell_type": "markdown",
      "metadata": {
        "id": "view-in-github",
        "colab_type": "text"
      },
      "source": [
        "<a href=\"https://colab.research.google.com/github/Orlando2899/Pemograman-Dasar/blob/main/Pertemuan%2004.ipynb\" target=\"_parent\"><img src=\"https://colab.research.google.com/assets/colab-badge.svg\" alt=\"Open In Colab\"/></a>"
      ]
    },
    {
      "cell_type": "markdown",
      "metadata": {
        "id": "MgSoSC_eK0mj"
      },
      "source": [
        "**PRAKTIKUM IF (PERCABANGAN TUNGGAL)**"
      ]
    },
    {
      "cell_type": "code",
      "execution_count": null,
      "metadata": {
        "colab": {
          "base_uri": "https://localhost:8080/"
        },
        "id": "ZSKOzKs-FGYx",
        "outputId": "d40ef3ac-acb8-4bd7-f834-c4b39928e2d9"
      },
      "outputs": [
        {
          "name": "stdout",
          "output_type": "stream",
          "text": [
            "Pengunjung adalah orang dewasa.\n"
          ]
        }
      ],
      "source": [
        "# Variabel untuk menyimpan umur pengunjung\n",
        "umur: int = 20\n",
        "\n",
        "# Program hanya akan mencetak pesan jika umur di atas 17\n",
        "if umur > 17:\n",
        "    print (\"Pengunjung adalah orang dewasa.\")\n"
      ]
    },
    {
      "cell_type": "code",
      "execution_count": null,
      "metadata": {
        "colab": {
          "base_uri": "https://localhost:8080/"
        },
        "id": "PfYZczzXHqOu",
        "outputId": "e9a10e1e-22cc-4ee1-f25d-6aa1a2d1eeba"
      },
      "outputs": [
        {
          "name": "stdout",
          "output_type": "stream",
          "text": [
            "Masukkan username: admin\n",
            "Masukkan password: 1234\n",
            "Login berhasil\n"
          ]
        }
      ],
      "source": [
        "username = input(\"Masukkan username: \")\n",
        "password = input(\"Masukkan password: \")\n",
        "\n",
        "if username == \"admin\" and password == \"1234\":\n",
        "    print (\"Login berhasil\")\n",
        "else:\n",
        "    print (\"Login gagal\")"
      ]
    },
    {
      "cell_type": "code",
      "execution_count": null,
      "metadata": {
        "colab": {
          "base_uri": "https://localhost:8080/"
        },
        "id": "pGIPnjigIE44",
        "outputId": "996e4ee3-5f30-416b-e384-c5a4c5b6efa9"
      },
      "outputs": [
        {
          "name": "stdout",
          "output_type": "stream",
          "text": [
            "Total belanja: Rp 10000\n",
            "Total yang harus dibayar: Rp 10000\n",
            "Terima kasih sudah berbelanja di Toko Kami\n",
            "Kami Tunggu kunjungan anda selanjutnya.\n"
          ]
        }
      ],
      "source": [
        "# program untuk mengecek bonus dan diskon\n",
        "total_belanja = input (\"Total belanja: Rp \")\n",
        "# jumlah yang harus dibayar adalah berapa total belanjaannya\n",
        "# tapi kalau dapat diskon akan berkurang\n",
        "bayar = int(total_belanja)\n",
        "\n",
        "# jika dia belanja di atas 100rb maka berikan bonus dan diskon\n",
        "if int(total_belanja) > 100000:\n",
        "    print (\"Selamat Karena Belanja > Rp. 100.000 anda mendapat Voucher Makan \")\n",
        "    print (\"dan diskon 5%\")\n",
        "    # hitung diskonnya\n",
        "    diskon = int(total_belanja) * 5/100  # 5%\n",
        "    bayar = int(total_belanja) - diskon\n",
        "\n",
        "# cetak struk\n",
        "print (\"Total yang harus dibayar: Rp %s\" % bayar)\n",
        "print (\"Terima kasih sudah berbelanja di Toko Kami\")\n",
        "print (\"Kami Tunggu kunjungan anda selanjutnya.\")"
      ]
    },
    {
      "cell_type": "code",
      "execution_count": null,
      "metadata": {
        "colab": {
          "base_uri": "https://localhost:8080/"
        },
        "id": "0F7Phv0SIztO",
        "outputId": "e512fa9f-4e3a-4bfd-e5f9-30156f2f5a55"
      },
      "outputs": [
        {
          "name": "stdout",
          "output_type": "stream",
          "text": [
            "Anda memiliki pesan baru!\n"
          ]
        }
      ],
      "source": [
        "# Variabel untuk memeriksa apakah ada notifikasi baru\n",
        "ada_notifikasi_baru: bool = True\n",
        "\n",
        "if ada_notifikasi_baru:\n",
        "    print (\"Anda memiliki pesan baru!\")"
      ]
    },
    {
      "cell_type": "markdown",
      "metadata": {
        "id": "rzb5jwHXLTO1"
      },
      "source": [
        "**PRAKTIKUM IF-ELSE**"
      ]
    },
    {
      "cell_type": "code",
      "execution_count": null,
      "metadata": {
        "colab": {
          "base_uri": "https://localhost:8080/"
        },
        "id": "QN9Wwaj9JVJP",
        "outputId": "8427e685-c7d1-4f94-fa77-577a1ef285c3"
      },
      "outputs": [
        {
          "name": "stdout",
          "output_type": "stream",
          "text": [
            "berapa Umur Kamu:20\n",
            "Kamu Boleh Membuat Sim\n"
          ]
        }
      ],
      "source": [
        "#if-else\n",
        "umur = input (\"berapa Umur Kamu:\")\n",
        "if int(umur) >= 18:\n",
        "  print (\"Kamu Boleh Membuat Sim\")\n",
        "else:\n",
        "  print (\"Kamu Belum Boleh Membuat Sim\")"
      ]
    },
    {
      "cell_type": "code",
      "execution_count": null,
      "metadata": {
        "colab": {
          "base_uri": "https://localhost:8080/"
        },
        "id": "H_fRnPgKJk3w",
        "outputId": "c862dda3-dc32-4f34-cb91-03140644bbed"
      },
      "outputs": [
        {
          "name": "stdout",
          "output_type": "stream",
          "text": [
            "Masukkan Bilangan:3\n",
            "Bilangan Ganjil\n"
          ]
        }
      ],
      "source": [
        "angka = int(input(\"Masukkan Bilangan:\"))\n",
        "if angka % 2 == 0:\n",
        "  print (\"Bilangan Genap\")\n",
        "else:\n",
        "  print (\"Bilangan Ganjil\")\n"
      ]
    },
    {
      "cell_type": "code",
      "execution_count": null,
      "metadata": {
        "colab": {
          "base_uri": "https://localhost:8080/"
        },
        "id": "SIR3fK1lMpbr",
        "outputId": "9c6176af-3450-4c62-c846-30c9991e857b"
      },
      "outputs": [
        {
          "name": "stdout",
          "output_type": "stream",
          "text": [
            "Total bayar: Rp 25000\n"
          ]
        }
      ],
      "source": [
        "total_belanja = 25000 #asumsikan total belanja di atas 20 rb\n",
        "if total_belanja > 200000:\n",
        "  diskon = total_belanja * 0.10\n",
        "  total_bayar - total_belanja - diskon\n",
        "  print (f\"anda mendapat diskon! Total bayar: Rp {total_bayar}\")\n",
        "else:\n",
        "  print (f\"Total bayar: Rp {total_belanja}\")\n",
        "\n",
        "\n"
      ]
    },
    {
      "cell_type": "markdown",
      "metadata": {
        "id": "BCUhU4dpVZbM"
      },
      "source": [
        "**PRAKTIKUM IF-ELIF-ELSE**"
      ]
    },
    {
      "cell_type": "code",
      "execution_count": null,
      "metadata": {
        "colab": {
          "base_uri": "https://localhost:8080/"
        },
        "id": "ajwBXF7zVz5U",
        "outputId": "9e2474cd-1355-47a6-e974-353cf600ed96"
      },
      "outputs": [
        {
          "name": "stdout",
          "output_type": "stream",
          "text": [
            "Bagus! Nilai B\n"
          ]
        }
      ],
      "source": [
        "nilai = 80\n",
        "if nilai >= 85:\n",
        "    print(\"Luar biasa! Nilai A\")\n",
        "elif nilai >= 70:\n",
        "    print(\"Bagus! Nilai B\")\n",
        "elif nilai >= 60:\n",
        "    print(\"Cukup. Nilai C\")\n",
        "else:\n",
        "    print(\"Nilai kurang, perlu belajar lebih giat.\")\n"
      ]
    },
    {
      "cell_type": "code",
      "execution_count": null,
      "metadata": {
        "colab": {
          "base_uri": "https://localhost:8080/"
        },
        "id": "ELT0NtU9WdkH",
        "outputId": "c0b0d102-8437-44ae-a30d-25969d21d6ad"
      },
      "outputs": [
        {
          "metadata": {
            "tags": null
          },
          "name": "stdout",
          "output_type": "stream",
          "text": [
            "Selamat! Anda mendapat diskon akhir pekan sebesar 20.0%.\n"
          ]
        }
      ],
      "source": [
        "# Menentukan jenis diskon berdasarkan hari\n",
        "hari: str = \"Sabtu\"\n",
        "\n",
        "if hari == \"Sabtu\" or hari == \"Minggu\":\n",
        "    diskon: float = 0.20 # Diskon 20%\n",
        "    print(f\"Selamat! Anda mendapat diskon akhir pekan sebesar {diskon*100}%.\")\n",
        "elif hari == \"Jumat\":\n",
        "    diskon: float = 0.15 # Diskon 15%\n",
        "    print(f\"Diskon spesial Jumat! Anda mendapat potongan {diskon*100}%.\")\n",
        "else:\n",
        "    diskon: float = 0.05 # Diskon 5%\n",
        "    print(f\"Anda mendapat diskon hari biasa sebesar {diskon*100}%.\")"
      ]
    },
    {
      "cell_type": "code",
      "execution_count": null,
      "metadata": {
        "colab": {
          "base_uri": "https://localhost:8080/"
        },
        "id": "yloJNEJNXHFz",
        "outputId": "40f71d08-9054-43ef-d119-75b1f0f83589"
      },
      "outputs": [
        {
          "output_type": "stream",
          "name": "stdout",
          "text": [
            "Masukkan jumlah uang (Rp): 15000\n",
            "1. Dollar (USD)\n",
            "2. Euro (EUR)\n",
            "3. Yen (JPY)\n",
            "Pilih konversi (1/2/3): 1\n",
            "Dalam Dollar: 1.0\n"
          ]
        }
      ],
      "source": [
        "\n",
        "rupiah = int(input(\"Masukkan jumlah uang (Rp): \"))\n",
        "print(\"1. Dollar (USD)\")\n",
        "print(\"2. Euro (EUR)\")\n",
        "print(\"3. Yen (JPY)\")\n",
        "pilih = int(input(\"Pilih konversi (1/2/3): \"))\n",
        "\n",
        "if pilih == 1:\n",
        "    print(\"Dalam Dollar:\", rupiah / 15000)\n",
        "elif pilih == 2:\n",
        "    print(\"Dalam Euro:\", rupiah / 16000)\n",
        "elif pilih == 3:\n",
        "    print(\"Dalam Yen:\", rupiah / 120)\n",
        "else:\n",
        "    print(\"Pilihan tidak valid\")\n"
      ]
    },
    {
      "cell_type": "markdown",
      "source": [
        "**Latihan**"
      ],
      "metadata": {
        "id": "VeXOeKUeaV7L"
      }
    },
    {
      "cell_type": "code",
      "source": [
        "# Latihan 1: Program cek kelipatan 5\n",
        "angka = int(input(\"Masukkan sebuah angka: \"))\n",
        "if angka % 5 == 0:\n",
        "    print(\"Kelipatan 5\")\n",
        "else:\n",
        "    print(\"Bukan kelipatan 5\")"
      ],
      "metadata": {
        "colab": {
          "base_uri": "https://localhost:8080/"
        },
        "id": "Cuw1fkpWbs7_",
        "outputId": "0e58e692-2221-4ed6-dd0a-848365750509"
      },
      "execution_count": null,
      "outputs": [
        {
          "output_type": "stream",
          "name": "stdout",
          "text": [
            "Masukkan sebuah angka: 35\n",
            "Kelipatan 5\n"
          ]
        }
      ]
    },
    {
      "cell_type": "code",
      "source": [
        "# Latihan 2: Menentukan tahun kabisat\n",
        "tahun = int(input(\"Masukkan tahun: \"))\n",
        "\n",
        "if tahun % 400 == 0:\n",
        "    print(\"Tahun kabisat\")\n",
        "elif tahun % 4 == 0 and tahun % 100 != 0:\n",
        "    print(\"Tahun kabisat\")\n",
        "else:\n",
        "    print(\"Bukan tahun kabisat\")\n"
      ],
      "metadata": {
        "colab": {
          "base_uri": "https://localhost:8080/"
        },
        "id": "m0hXNSj5cN2J",
        "outputId": "e1f648a1-bd70-40bf-f7bd-27b3ef231fb5"
      },
      "execution_count": null,
      "outputs": [
        {
          "output_type": "stream",
          "name": "stdout",
          "text": [
            "Masukkan tahun: 2025\n",
            "Bukan tahun kabisat\n"
          ]
        }
      ]
    },
    {
      "cell_type": "code",
      "source": [
        "# Latihan 3: Soal matematika dengan if-else\n",
        "print(\"Soal: Hitung hasil dari 10 + 5\")\n",
        "jawaban = int(input(\"Masukkan jawaban: \"))\n",
        "\n",
        "if jawaban == 15:\n",
        "    print(\"Benar!\")\n",
        "else:\n",
        "    print(\"Salah, jawabannya adalah 15\")"
      ],
      "metadata": {
        "colab": {
          "base_uri": "https://localhost:8080/"
        },
        "id": "gQKNiaEecVCe",
        "outputId": "ee672a60-ea69-4f71-e53c-0b998e866e72"
      },
      "execution_count": null,
      "outputs": [
        {
          "output_type": "stream",
          "name": "stdout",
          "text": [
            "Soal: Hitung hasil dari 10 + 5\n",
            "Masukkan jawaban: 15\n",
            "Benar!\n"
          ]
        }
      ]
    },
    {
      "cell_type": "code",
      "source": [
        "# Latihan 4: Program input bulan\n",
        "bulan = int(input(\"Masukkan angka bulan (1-12): \"))\n",
        "\n",
        "nama_bulan = [\"Januari\", \"Februari\", \"Maret\", \"April\", \"Mei\", \"Juni\",\n",
        "              \"Juli\", \"Agustus\", \"September\", \"Oktober\", \"November\", \"Desember\"]\n",
        "\n",
        "if 1 <= bulan <= 12:\n",
        "    print(\"Bulan:\", nama_bulan[bulan-1])\n",
        "else:\n",
        "    print(\"Input salah\")\n"
      ],
      "metadata": {
        "colab": {
          "base_uri": "https://localhost:8080/"
        },
        "id": "PBBKQyaPciKy",
        "outputId": "ecb10b30-b0ba-4843-bda4-39b583612a2c"
      },
      "execution_count": null,
      "outputs": [
        {
          "output_type": "stream",
          "name": "stdout",
          "text": [
            "Masukkan angka bulan (1-12): 3\n",
            "Bulan: Maret\n"
          ]
        }
      ]
    },
    {
      "cell_type": "code",
      "source": [
        "# Latihan 5: Program salam berdasarkan jam\n",
        "jam = int(input(\"Masukkan jam (0-23): \"))\n",
        "\n",
        "if 0 <= jam <= 11:\n",
        "    print(\"Selamat Pagi\")\n",
        "elif 12 <= jam <= 15:\n",
        "    print(\"Selamat Siang\")\n",
        "elif 16 <= jam <= 18:\n",
        "    print(\"Selamat Sore\")\n",
        "elif 19 <= jam <= 23:\n",
        "    print(\"Selamat Malam\")\n",
        "else:\n",
        "    print(\"Input jam tidak valid\")"
      ],
      "metadata": {
        "colab": {
          "base_uri": "https://localhost:8080/"
        },
        "id": "_n_jjhogdArv",
        "outputId": "b36abdd9-1bda-4565-e6fa-72cf49b79cad"
      },
      "execution_count": null,
      "outputs": [
        {
          "output_type": "stream",
          "name": "stdout",
          "text": [
            "Masukkan jam (0-23): 22\n",
            "Selamat Malam\n"
          ]
        }
      ]
    },
    {
      "cell_type": "markdown",
      "source": [
        "**TUGAS**"
      ],
      "metadata": {
        "id": "26J5skxeOGD6"
      }
    },
    {
      "cell_type": "code",
      "source": [
        "# Program Kasir Kafe Gemini\n",
        "\n",
        "print(\"=\"*40)\n",
        "print(\"SELAMAT DATANG DI KAFE GEMINI\")\n",
        "print(\"=\"*40)\n",
        "print(\"Menu Makanan & Minuman:\")\n",
        "print(\"1. Kopi Hitam     - Rp 12.000\")\n",
        "print(\"2. Teh Manis      - Rp 8.000\")\n",
        "print(\"3. Roti Bakar     - Rp 15.000\")\n",
        "print(\"4. Mie Instan     - Rp 10.000\")\n",
        "print(\"=\"*40)\n",
        "\n",
        "# Input pilihan menu\n",
        "pilihan = int(input(\"Silakan masukkan nomor pilihan Anda (1-4): \"))\n",
        "\n",
        "nama_pesanan = \"\"\n",
        "harga = 0\n",
        "\n",
        "# Menentukan harga berdasarkan pilihan\n",
        "if pilihan == 1:\n",
        "    nama_pesanan = \"Kopi Hitam\"\n",
        "    harga = 12000\n",
        "elif pilihan == 2:\n",
        "    nama_pesanan = \"Teh Manis\"\n",
        "    harga = 8000\n",
        "elif pilihan == 3:\n",
        "    nama_pesanan = \"Roti Bakar\"\n",
        "    harga = 15000\n",
        "elif pilihan == 4:\n",
        "    nama_pesanan = \"Mie Instan\"\n",
        "    harga = 10000\n",
        "else:\n",
        "    print(\"Pilihan menu tidak valid. Program dihentikan.\")\n",
        "    exit()\n",
        "\n",
        "# Menampilkan pesanan\n",
        "print(f\"Anda memesan: {nama_pesanan} dengan harga Rp {harga}\")\n",
        "\n",
        "\n",
        "# Penentuan diskon\n",
        "\n",
        "print(\"\\nKategori Diskon:\")\n",
        "print(\"1. Diskon 70%\")\n",
        "print(\"2. Diskon 50%\")\n",
        "print(\"3. Diskon 30%\")\n",
        "\n",
        "kategori = int(input(\"Pilih kategori diskon (1-3): \"))\n",
        "\n",
        "if kategori == 1:\n",
        "    diskon = 0.7\n",
        "elif kategori == 2:\n",
        "    diskon = 0.5\n",
        "elif kategori == 3:\n",
        "    diskon = 0.3\n",
        "else:\n",
        "    print(\"Kategori tidak valid, tidak ada diskon yang diberikan.\")\n",
        "    diskon = 0\n",
        "\n",
        "# Hitung total setelah diskon\n",
        "potongan = harga * diskon\n",
        "total_bayar = harga - potongan\n",
        "\n",
        "print(f\"\\nHarga sebelum diskon : Rp {harga}\")\n",
        "print(f\"Diskon yang didapat   : {int(diskon*100)}% (Rp {int(potongan)})\")\n",
        "print(f\"Total yang harus dibayar: Rp {int(total_bayar)}\")\n",
        "\n",
        "\n",
        "# Pembayaran\n",
        "\n",
        "uang = int(input(\"\\nMasukkan jumlah uang Anda: Rp \"))\n",
        "if uang >= total_bayar:\n",
        "    kembalian = uang - total_bayar\n",
        "    print(\"\\n===== STRUK PEMBAYARAN =====\")\n",
        "    print(f\"Pesanan      : {nama_pesanan}\")\n",
        "    print(f\"Total Bayar  : Rp {int(total_bayar)}\")\n",
        "    print(f\"Uang Dibayar : Rp {uang}\")\n",
        "    print(f\"Kembalian    : Rp {int(kembalian)}\")\n",
        "    print(\"=============================\")\n",
        "    print(\"Terima kasih telah berbelanja di Kafe Gemini!\")\n",
        "else:\n",
        "    kekurangan = total_bayar - uang\n",
        "    print(f\"Uang Anda kurang Rp {int(kekurangan)}. Silakan bayar dengan cukup.\")\n"
      ],
      "metadata": {
        "colab": {
          "base_uri": "https://localhost:8080/"
        },
        "id": "CDP7GhKuhlCa",
        "outputId": "5fd99d0f-7649-49f8-862c-9ad8c9b8cb59"
      },
      "execution_count": null,
      "outputs": [
        {
          "output_type": "stream",
          "name": "stdout",
          "text": [
            "========================================\n",
            "SELAMAT DATANG DI KAFE GEMINI\n",
            "========================================\n",
            "Menu Makanan & Minuman:\n",
            "1. Kopi Hitam     - Rp 12.000\n",
            "2. Teh Manis      - Rp 8.000\n",
            "3. Roti Bakar     - Rp 15.000\n",
            "4. Mie Instan     - Rp 10.000\n",
            "========================================\n",
            "Silakan masukkan nomor pilihan Anda (1-4): 1\n",
            "Anda memesan: Kopi Hitam dengan harga Rp 12000\n",
            "\n",
            "Kategori Diskon:\n",
            "1. Diskon 70%\n",
            "2. Diskon 50%\n",
            "3. Diskon 30%\n",
            "Pilih kategori diskon (1-3): 2\n",
            "\n",
            "Harga sebelum diskon : Rp 12000\n",
            "Diskon yang didapat   : 50% (Rp 6000)\n",
            "Total yang harus dibayar: Rp 6000\n",
            "\n",
            "Masukkan jumlah uang Anda: Rp 10000\n",
            "\n",
            "===== STRUK PEMBAYARAN =====\n",
            "Pesanan      : Kopi Hitam\n",
            "Total Bayar  : Rp 6000\n",
            "Uang Dibayar : Rp 10000\n",
            "Kembalian    : Rp 4000\n",
            "=============================\n",
            "Terima kasih telah berbelanja di Kafe Gemini!\n"
          ]
        }
      ]
    }
  ],
  "metadata": {
    "colab": {
      "provenance": [],
      "authorship_tag": "ABX9TyOy088sMug+ueUDjzqMcOsX",
      "include_colab_link": true
    },
    "kernelspec": {
      "display_name": "Python 3",
      "name": "python3"
    },
    "language_info": {
      "name": "python"
    }
  },
  "nbformat": 4,
  "nbformat_minor": 0
}
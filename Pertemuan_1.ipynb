{
  "nbformat": 4,
  "nbformat_minor": 0,
  "metadata": {
    "colab": {
      "provenance": [],
      "authorship_tag": "ABX9TyN3ykhPbF1P+TLhktTgWDe4",
      "include_colab_link": true
    },
    "kernelspec": {
      "name": "python3",
      "display_name": "Python 3"
    },
    "language_info": {
      "name": "python"
    }
  },
  "cells": [
    {
      "cell_type": "markdown",
      "metadata": {
        "id": "view-in-github",
        "colab_type": "text"
      },
      "source": [
        "<a href=\"https://colab.research.google.com/github/Orlando2899/Pemograman-Dasar/blob/main/Pertemuan_1.ipynb\" target=\"_parent\"><img src=\"https://colab.research.google.com/assets/colab-badge.svg\" alt=\"Open In Colab\"/></a>"
      ]
    },
    {
      "cell_type": "code",
      "execution_count": null,
      "metadata": {
        "colab": {
          "base_uri": "https://localhost:8080/"
        },
        "id": "uWJLbU9f8F1D",
        "outputId": "e8ccf8f5-e730-4000-b4dc-8c05b0074392"
      },
      "outputs": [
        {
          "output_type": "stream",
          "name": "stdout",
          "text": [
            "Gusmawan Orlando Pardosi\n",
            "26\n",
            "RPE\n",
            "3\n",
            "Pemograman Dasar\n",
            "False\n",
            "Kristen\n",
            "('futsal', 'traveling')\n",
            "2\n",
            "Belum Kawin\n"
          ]
        }
      ],
      "source": [
        "nama = \"Gusmawan Orlando Pardosi\"\n",
        "umur = 26\n",
        "jurusan = \"RPE\"\n",
        "semester = 3\n",
        "matakuliah = 'Pemograman Dasar'\n",
        "status_lulus = False\n",
        "agama = \"Kristen\"\n",
        "hobby = 'futsal', 'traveling'\n",
        "jumlah_saudara = 2\n",
        "status_perkawinan = \"Belum Kawin\"\n",
        "\n",
        "\n",
        "print (nama)\n",
        "print (umur)\n",
        "print (jurusan)\n",
        "print (semester)\n",
        "print (matakuliah)\n",
        "print (status_lulus)\n",
        "print (agama)\n",
        "print (hobby)\n",
        "print (jumlah_saudara)\n",
        "print (status_perkawinan)"
      ]
    }
  ]
}
{
  "nbformat": 4,
  "nbformat_minor": 0,
  "metadata": {
    "colab": {
      "provenance": [],
      "authorship_tag": "ABX9TyMflk5pcg+blUMX3ARzTiBs",
      "include_colab_link": true
    },
    "kernelspec": {
      "name": "python3",
      "display_name": "Python 3"
    },
    "language_info": {
      "name": "python"
    }
  },
  "cells": [
    {
      "cell_type": "markdown",
      "metadata": {
        "id": "view-in-github",
        "colab_type": "text"
      },
      "source": [
        "<a href=\"https://colab.research.google.com/github/Orlando2899/Pemograman-Dasar/blob/main/Pertemuan_3.ipynb\" target=\"_parent\"><img src=\"https://colab.research.google.com/assets/colab-badge.svg\" alt=\"Open In Colab\"/></a>"
      ]
    },
    {
      "cell_type": "code",
      "execution_count": null,
      "metadata": {
        "colab": {
          "base_uri": "https://localhost:8080/"
        },
        "id": "9YArsqo_MCSh",
        "outputId": "6b84c6e7-055b-42a1-e868-abc9cdbc99cc"
      },
      "outputs": [
        {
          "name": "stdout",
          "output_type": "stream",
          "text": [
            "Berapa porsi makan yang Anda beli? : 3\n",
            "Siapa Nama Pelanggan? : Orlando\n"
          ]
        }
      ],
      "source": [
        "total = int(input(\"Berapa porsi makan yang Anda beli? : \"))\n",
        "Nama = str(input(\"Siapa Nama Pelanggan? : \"))"
      ]
    },
    {
      "cell_type": "code",
      "source": [
        "total = float(input(\"Berapa porsi makan yang Anda beli? : \"))\n",
        "Nama  = str(input(\"Siapa Nama Pelanggan? : \"))\n"
      ],
      "metadata": {
        "colab": {
          "base_uri": "https://localhost:8080/"
        },
        "id": "p4apH5wJOnOt",
        "outputId": "f227095d-31ee-44f2-b5b2-0aabd4bd6838"
      },
      "execution_count": null,
      "outputs": [
        {
          "name": "stdout",
          "output_type": "stream",
          "text": [
            "Berapa porsi makan yang Anda beli? : 3\n",
            "Siapa Nama Pelanggan? : Orlando\n"
          ]
        }
      ]
    },
    {
      "cell_type": "code",
      "source": [
        "food = \"Mi ayam bakso\"\n",
        "print(\"Hendi sedang memesan\", food)\n",
        "\n",
        "food = \"Mi ayam bakso\"\n",
        "print(\"Hendi sedang memesan\", food)\n",
        "print(\"Hendi sedang memesan \" + food)\n",
        "print(\"Hendi sedang memesan %s\" % (food))"
      ],
      "metadata": {
        "colab": {
          "base_uri": "https://localhost:8080/"
        },
        "id": "y8rJnNyxO_PW",
        "outputId": "ded1ea23-692f-483f-be78-b4e71a3e65bf"
      },
      "execution_count": null,
      "outputs": [
        {
          "output_type": "stream",
          "name": "stdout",
          "text": [
            "Hendi sedang memesan Mi ayam bakso\n",
            "Hendi sedang memesan Mi ayam bakso\n",
            "Hendi sedang memesan Mi ayam bakso\n",
            "Hendi sedang memesan Mi ayam bakso\n"
          ]
        }
      ]
    },
    {
      "cell_type": "code",
      "source": [
        "# Integer (%d)\n",
        "jumlah = 5\n",
        "print(\"Jumlah porsi yang dipesan adalah %d\" % (jumlah))\n",
        "\n",
        "# Float (%f)\n",
        "harga = 12.5\n",
        "print(\"Harga per porsi adalah %f\" % (harga))\n",
        "print(\"Harga per porsi (2 angka di belakang koma) %.2f\" % (harga))\n",
        "\n",
        "# String (%s)\n",
        "makanan = \"Mi Ayam Bakso\"\n",
        "print(\"Menu yang dipesan adalah %s\" % (makanan))\n",
        "\n",
        "# Hexadecimal (%x)\n",
        "angka_hex = 255\n",
        "print(\"Angka %d dalam hexadecimal adalah %x\" % (angka_hex, angka_hex))\n",
        "\n",
        "# Octal (%o)\n",
        "angka_oktal = 10\n",
        "print(\"Angka %d dalam octal adalah %o\" % (angka_oktal, angka_oktal))\n"
      ],
      "metadata": {
        "colab": {
          "base_uri": "https://localhost:8080/"
        },
        "id": "M40-dgfCPMzz",
        "outputId": "ae801542-2e7f-4fb0-bcd8-83da4af1b7c6"
      },
      "execution_count": null,
      "outputs": [
        {
          "output_type": "stream",
          "name": "stdout",
          "text": [
            "Jumlah porsi yang dipesan adalah 5\n",
            "Harga per porsi adalah 12.500000\n",
            "Harga per porsi (2 angka di belakang koma) 12.50\n",
            "Menu yang dipesan adalah Mi Ayam Bakso\n",
            "Angka 255 dalam hexadecimal adalah ff\n",
            "Angka 10 dalam octal adalah 12\n"
          ]
        }
      ]
    },
    {
      "cell_type": "code",
      "source": [
        "# Contoh input dan output\n",
        "a = 20\n",
        "b = 5\n",
        "print(\"Penjumlahan:\", a + b)\n",
        "print(\"Pengurangan:\", a - b)\n",
        "print(\"Perkalian:\", a * b)\n",
        "print(\"Pembagian:\", a / b)\n",
        "\n",
        "\n",
        "# Kalkulator kasir\n",
        "harga_makan = int(input(\"Berapa harga mi ayam per porsi? \"))\n",
        "jumlah_makan = int(input(\"Berapa porsi yang Anda beli? \"))\n",
        "total_makan = harga_makan * jumlah_makan\n",
        "\n",
        "print(f\"Harga makan per porsi = {harga_makan}, totalnya adalah {total_makan}\")\n",
        "\n",
        "\n",
        "# Mengecek bilangan\n",
        "bilangan = 8\n",
        "hasil = (bilangan > 0) and (bilangan % 2 == 0)\n",
        "print(\"Genap dan positif?\", hasil)"
      ],
      "metadata": {
        "colab": {
          "base_uri": "https://localhost:8080/"
        },
        "id": "4TMzVTW5PXjh",
        "outputId": "7c6c1a94-4ffe-4b54-b389-09817fee43b3"
      },
      "execution_count": null,
      "outputs": [
        {
          "output_type": "stream",
          "name": "stdout",
          "text": [
            "Penjumlahan: 25\n",
            "Pengurangan: 15\n",
            "Perkalian: 100\n",
            "Pembagian: 4.0\n",
            "Berapa harga mi ayam per porsi? 16000\n",
            "Berapa porsi yang Anda beli? 3\n",
            "Harga makan per porsi = 16000, totalnya adalah 48000\n",
            "Genap dan positif? True\n"
          ]
        }
      ]
    },
    {
      "cell_type": "code",
      "source": [
        "#konversi waktu\n",
        "total_detik = 3600\n",
        "jam = total_detik // 3600\n",
        "sisa_detik = total_detik % 3600\n",
        "menit = sisa_detik // 6\n",
        "detik = sisa_detik % 60\n",
        "print(f\"Hasil Konversi: {jam} Jam, {menit} Menit, {detik} Detik\")"
      ],
      "metadata": {
        "colab": {
          "base_uri": "https://localhost:8080/"
        },
        "id": "IxUoIWCbPj1Y",
        "outputId": "5adfd7c1-1ffa-4b38-c533-17594b8f8e3f"
      },
      "execution_count": null,
      "outputs": [
        {
          "output_type": "stream",
          "name": "stdout",
          "text": [
            "Hasil Konversi: 1 Jam, 0 Menit, 0 Detik\n"
          ]
        }
      ]
    },
    {
      "cell_type": "code",
      "source": [
        "# Konversi Waktu: Total Detik → Jam:Menit:Detik\n",
        "\n",
        "# Menerima input dari keyboard\n",
        "total_detik = int(input(\"Masukkan total detik: \"))\n",
        "\n",
        "# Hitung jam\n",
        "jam = total_detik // 3600\n",
        "sisa_detik = total_detik % 3600\n",
        "\n",
        "# Hitung menit\n",
        "menit = sisa_detik // 60\n",
        "\n",
        "# Hitung detik\n",
        "detik = sisa_detik % 60\n",
        "\n",
        "# Output hasil\n",
        "print(f\"Hasil Konversi: {jam} Jam, {menit} Menit, {detik} Detik\")"
      ],
      "metadata": {
        "colab": {
          "base_uri": "https://localhost:8080/"
        },
        "id": "CRKXoxhAPy6F",
        "outputId": "54ca0661-a829-4af6-bdb0-2e7ddcc01a22"
      },
      "execution_count": null,
      "outputs": [
        {
          "output_type": "stream",
          "name": "stdout",
          "text": [
            "Masukkan total detik: 358200\n",
            "Hasil Konversi: 99 Jam, 30 Menit, 0 Detik\n"
          ]
        }
      ]
    },
    {
      "cell_type": "code",
      "source": [
        "tugas = 80\n",
        "uts = 70\n",
        "uas = 90\n",
        "nilai_akhir = (0.3 * tugas) + (0.3 * uts) + (0.4 * uas)\n",
        "print(\"Nilai akhir =\", nilai_akhir)\n"
      ],
      "metadata": {
        "colab": {
          "base_uri": "https://localhost:8080/"
        },
        "id": "WN57UIZSQEQZ",
        "outputId": "73066d18-0326-416d-f487-1c840e1455cb"
      },
      "execution_count": null,
      "outputs": [
        {
          "output_type": "stream",
          "name": "stdout",
          "text": [
            "Nilai akhir = 81.0\n"
          ]
        }
      ]
    },
    {
      "cell_type": "code",
      "source": [
        "nilai_mahasiswa = 75  #isikan dengan nilai\n",
        "standar_kelulusan = 60  #isikan nilai standard\n",
        "apakah_lulus = nilai_mahasiswa >= standar_kelulusan\n",
        "perlu_remedial = nilai_mahasiswa < standar_kelulusan\n",
        "print(f\"Nilai Mahasiswa: {nilai_mahasiswa}\")\n",
        "print(f\"Standar Kelulusan: {standar_kelulusan}\")\n",
        "print(f\"Apakah Mahasiswa Lulus? {apakah_lulus}\")\n",
        "print(f\"Perlu Remedial? {perlu_remedial}\")"
      ],
      "metadata": {
        "colab": {
          "base_uri": "https://localhost:8080/"
        },
        "id": "kro-R8afQRgf",
        "outputId": "31aff9b5-af21-476b-b96d-0ef05c543b3c"
      },
      "execution_count": null,
      "outputs": [
        {
          "output_type": "stream",
          "name": "stdout",
          "text": [
            "Nilai Mahasiswa: 75\n",
            "Standar Kelulusan: 60\n",
            "Apakah Mahasiswa Lulus? True\n",
            "Perlu Remedial? False\n"
          ]
        }
      ]
    },
    {
      "cell_type": "code",
      "source": [
        "# Program Menghitung Nilai Akhir Mahasiswa\n",
        "\n",
        "# Input nilai dari keyboard\n",
        "tugas1 = float(input(\"Masukkan nilai Tugas 1: \"))\n",
        "tugas2 = float(input(\"Masukkan nilai Tugas 2: \"))\n",
        "tugas3 = float(input(\"Masukkan nilai Tugas 3: \"))\n",
        "uts = float(input(\"Masukkan nilai UTS: \"))\n",
        "uas = float(input(\"Masukkan nilai UAS: \"))\n",
        "\n",
        "# Hitung nilai akhir (misal bobot: tugas 30%, uts 30%, uas 40%)\n",
        "rata_tugas = (tugas1 + tugas2 + tugas3) / 3\n",
        "nilai_akhir = (0.3 * rata_tugas) + (0.3 * uts) + (0.4 * uas)\n",
        "\n",
        "print(\"\\n=== HASIL PERHITUNGAN NILAI AKHIR ===\")\n",
        "print(\"Rata-rata Tugas =\", rata_tugas)\n",
        "print(\"Nilai Akhir =\", nilai_akhir)\n",
        "\n",
        "# Input standar kelulusan\n",
        "standar_kelulusan = float(input(\"\\nMasukkan standar kelulusan: \"))\n",
        "\n",
        "# Pengecekan lulus atau remedial\n",
        "apakah_lulus = nilai_akhir >= standar_kelulusan\n",
        "perlu_remedial = nilai_akhir < standar_kelulusan\n",
        "\n",
        "print(f\"Nilai Mahasiswa: {nilai_akhir}\")\n",
        "print(f\"Standar Kelulusan: {standar_kelulusan}\")\n",
        "print(f\"Apakah Mahasiswa Lulus? {apakah_lulus}\")\n",
        "print(f\"Perlu Remedial? {perlu_remedial}\")\n"
      ],
      "metadata": {
        "colab": {
          "base_uri": "https://localhost:8080/"
        },
        "id": "KcflDWSmQbQt",
        "outputId": "82f1ac2e-fef9-443f-c626-b932a945470b"
      },
      "execution_count": null,
      "outputs": [
        {
          "output_type": "stream",
          "name": "stdout",
          "text": [
            "Masukkan nilai Tugas 1: 90\n",
            "Masukkan nilai Tugas 2: 88\n",
            "Masukkan nilai Tugas 3: 80\n",
            "Masukkan nilai UTS: 85\n",
            "Masukkan nilai UAS: 80\n",
            "\n",
            "=== HASIL PERHITUNGAN NILAI AKHIR ===\n",
            "Rata-rata Tugas = 86.0\n",
            "Nilai Akhir = 83.3\n",
            "\n",
            "Masukkan standar kelulusan: 75\n",
            "Nilai Mahasiswa: 83.3\n",
            "Standar Kelulusan: 75.0\n",
            "Apakah Mahasiswa Lulus? True\n",
            "Perlu Remedial? False\n"
          ]
        }
      ]
    },
    {
      "cell_type": "code",
      "source": [
        "belanja = 850000\n",
        "diskon = (0, 0.1 * belanja)[belanja > 500000]\n",
        "total_harga = belanja - diskon\n",
        "print(\"Total harga setelah diskon =\", total_harga)\n"
      ],
      "metadata": {
        "colab": {
          "base_uri": "https://localhost:8080/"
        },
        "id": "GVVQ3SiBQzUh",
        "outputId": "0eaec63e-c839-4437-e3d9-fe1ffd5bba7d"
      },
      "execution_count": null,
      "outputs": [
        {
          "output_type": "stream",
          "name": "stdout",
          "text": [
            "Total harga setelah diskon = 765000.0\n"
          ]
        }
      ]
    },
    {
      "cell_type": "code",
      "source": [
        "# Program Menghitung Total Harga Setelah Diskon\n",
        "\n",
        "# Input belanja via keyboard\n",
        "belanja = int(input(\"Masukkan total belanja: \"))\n",
        "\n",
        "# Hitung diskon\n",
        "if belanja > 1000000:\n",
        "    diskon = 0.35 * belanja   # diskon 35%\n",
        "elif belanja > 500000:\n",
        "    diskon = 0.10 * belanja   # diskon 10%\n",
        "else:\n",
        "    diskon = 0                # tidak ada diskon\n",
        "\n",
        "# Hitung total harga setelah diskon\n",
        "total_harga = belanja - diskon\n",
        "\n",
        "# Output hasil\n",
        "print(f\"Total belanja = {belanja}\")\n",
        "print(f\"Diskon = {diskon}\")\n",
        "print(f\"Total harga setelah diskon = {total_harga}\")"
      ],
      "metadata": {
        "colab": {
          "base_uri": "https://localhost:8080/"
        },
        "id": "3lYl-8GhQ5-4",
        "outputId": "1c2311af-2667-4bd7-a1d7-226f723340c1"
      },
      "execution_count": null,
      "outputs": [
        {
          "output_type": "stream",
          "name": "stdout",
          "text": [
            "Masukkan total belanja: 2500000\n",
            "Total belanja = 2500000\n",
            "Diskon = 875000.0\n",
            "Total harga setelah diskon = 1625000.0\n"
          ]
        }
      ]
    }
  ]
}
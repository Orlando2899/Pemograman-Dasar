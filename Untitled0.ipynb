{
  "nbformat": 4,
  "nbformat_minor": 0,
  "metadata": {
    "colab": {
      "provenance": [],
      "authorship_tag": "ABX9TyPGpPwUA+oVSQvXtL4SqIj8",
      "include_colab_link": true
    },
    "kernelspec": {
      "name": "python3",
      "display_name": "Python 3"
    },
    "language_info": {
      "name": "python"
    }
  },
  "cells": [
    {
      "cell_type": "markdown",
      "metadata": {
        "id": "view-in-github",
        "colab_type": "text"
      },
      "source": [
        "<a href=\"https://colab.research.google.com/github/Orlando2899/Pemograman-Dasar/blob/main/Untitled0.ipynb\" target=\"_parent\"><img src=\"https://colab.research.google.com/assets/colab-badge.svg\" alt=\"Open In Colab\"/></a>"
      ]
    },
    {
      "cell_type": "code",
      "execution_count": null,
      "metadata": {
        "colab": {
          "base_uri": "https://localhost:8080/"
        },
        "id": "yWuF1GBjAs29",
        "outputId": "57f50c4c-ad1c-47f3-d55d-3540a850c623"
      },
      "outputs": [
        {
          "output_type": "stream",
          "name": "stdout",
          "text": [
            "[23, 43, 51, 34]\n"
          ]
        }
      ],
      "source": [
        "\n",
        "# deklarasi variabel list\n",
        "numbers = [23,43,15,34]\n",
        "#cara mengakses elemen dalam variabel list\n",
        "numbers[0]  # 23\n",
        "numbers[1]  # 43\n",
        "numbers[2]  # 15\n",
        "numbers[3]  # 34\n",
        "# cara mengubah nilai elemen dalam variabel list\n",
        "numbers[2]  # 51\n",
        "numbers[2]  = 51\n",
        "\n",
        "print (numbers) #lakukan untuk setiap indexnya dan lihat hasilnya\n",
        "\n"
      ]
    },
    {
      "cell_type": "code",
      "source": [
        "# deklarasi variabel list numbers\n",
        "numbers = [1,2,3]\n",
        "\n",
        "# menambahkan elemen di indeks ke-4\n",
        "numbers.insert(4,5)   #[1,2,3,4,5]\n",
        "\n",
        "# mengubah elemen di indeks ke-4\n",
        "numbers[3] = 4   #[1,2,3,4]\n",
        "\n",
        "# menghapus elemen di indeks ke-2\n",
        "numbers.pop(2)   #[1,2,4]\n",
        "\n",
        "#print lalu lihat hasilnya"
      ],
      "metadata": {
        "colab": {
          "base_uri": "https://localhost:8080/"
        },
        "id": "qcjHhN9QGYTs",
        "outputId": "645189d4-d120-44f1-c49d-ea66c18e6767"
      },
      "execution_count": null,
      "outputs": [
        {
          "output_type": "execute_result",
          "data": {
            "text/plain": [
              "3"
            ]
          },
          "metadata": {},
          "execution_count": 1
        }
      ]
    },
    {
      "cell_type": "code",
      "source": [
        "# deklarasi variabel list numbers\n",
        "numbers = [1,2,3]\n",
        "\n",
        "# menambahkan elemen di indeks ke-4\n",
        "numbers.insert(4, 5) # (1,2,3,5)\n",
        "\n",
        "# mengubah elemen di indeks ke-4\n",
        "\n",
        "numbers[3] = 4 # [1,2,3,4]\n",
        "\n",
        "# menghapus elemen di indeks ke-2\n",
        "numbers.pop(2) # [1,2,4]\n",
        "\n",
        "# print setiap hasil perubahan dan amati hasilnya"
      ],
      "metadata": {
        "id": "N34GHua6HCAs",
        "colab": {
          "base_uri": "https://localhost:8080/"
        },
        "outputId": "0f6dd626-5cfe-4874-ad8e-6ca30ad35173"
      },
      "execution_count": null,
      "outputs": [
        {
          "output_type": "execute_result",
          "data": {
            "text/plain": [
              "3"
            ]
          },
          "metadata": {},
          "execution_count": 5
        }
      ]
    },
    {
      "cell_type": "code",
      "source": [
        "# deklarasi variabel list\n",
        "mylist = [1,\"Rumah\", 4.5, True, [\"kamar mandi\", \"kamar tidur\"]]\n",
        "\n",
        "# cara mengakses elemen dalam variabel list\n",
        "mylist[0]  # 1\n",
        "mylist[1]  # \"Rumah\"\n",
        "mylist[3]  # True\n",
        "mylist[4]  #[\"kamar mandi\", \"kamar tidur\"]\n",
        "\n",
        "# cara mengakses elemen dalam sublist\n",
        "mylist [4][0] # \"kamar mandi\"\n",
        "mylist [4][1] # \"kamar tidur\"\n",
        "\n",
        "#lakukan print lalu amati hasilnya\n",
        "\n"
      ],
      "metadata": {
        "colab": {
          "base_uri": "https://localhost:8080/",
          "height": 36
        },
        "id": "ZgmJbFgJJaQZ",
        "outputId": "3dc913af-5aa0-49d6-ae20-398d286e0174"
      },
      "execution_count": 1,
      "outputs": [
        {
          "output_type": "execute_result",
          "data": {
            "text/plain": [
              "'kamar tidur'"
            ],
            "application/vnd.google.colaboratory.intrinsic+json": {
              "type": "string"
            }
          },
          "metadata": {},
          "execution_count": 1
        }
      ]
    },
    {
      "cell_type": "code",
      "source": [
        "x = [\"laptop\", \"monitor\", \"mouse\", \"mousepad\", \"keyboard\", \"webcam\", \"microphone\"]\n",
        "print(x[0:5:2])\n",
        "print(x[1:])\n",
        "print(x[:3])\n",
        "\n",
        "\"\"\"\n",
        "output:\n",
        "['laptop', 'mouse', 'keyboard']\n",
        "['monitor, 'mouse', 'mousepad', 'keyboard', 'webcam', 'microphone']\n",
        "['laptop', 'monitor', 'mouse']\n",
        "\n",
        "\"\"\"\n"
      ],
      "metadata": {
        "colab": {
          "base_uri": "https://localhost:8080/",
          "height": 109
        },
        "id": "iMZoeJf3SXvG",
        "outputId": "f3f98f50-e72f-4bea-deba-51599bde49c5"
      },
      "execution_count": null,
      "outputs": [
        {
          "output_type": "stream",
          "name": "stdout",
          "text": [
            "['laptop', 'mouse', 'keyboard']\n",
            "['monitor', 'mouse', 'mousepad', 'keyboard', 'webcam', 'microphone']\n",
            "['laptop', 'monitor', 'mouse']\n"
          ]
        },
        {
          "output_type": "execute_result",
          "data": {
            "text/plain": [
              "\"\\noutput:\\n['laptop', 'mouse', 'keyboard']\\n['monitor, 'mouse', 'mousepad', 'keyboard', 'webcam', 'microphone']\\n['laptop', 'monitor', 'mouse']\\n\\n\""
            ],
            "application/vnd.google.colaboratory.intrinsic+json": {
              "type": "string"
            }
          },
          "metadata": {},
          "execution_count": 11
        }
      ]
    },
    {
      "cell_type": "code",
      "source": [
        "x = (1, \"polibatam\", 1+3j)\n",
        "print(type(x))\n",
        "\n",
        "\"\"\"\n",
        "output:\n",
        "<class, 'tuple'>\n",
        "\"\"\""
      ],
      "metadata": {
        "colab": {
          "base_uri": "https://localhost:8080/",
          "height": 54
        },
        "id": "lHYjA58oUmNG",
        "outputId": "97100cd0-c554-4716-8fe6-604a2550e795"
      },
      "execution_count": 2,
      "outputs": [
        {
          "output_type": "stream",
          "name": "stdout",
          "text": [
            "<class 'tuple'>\n"
          ]
        },
        {
          "output_type": "execute_result",
          "data": {
            "text/plain": [
              "\"\\noutput:\\n<class, 'tuple'>\\n\""
            ],
            "application/vnd.google.colaboratory.intrinsic+json": {
              "type": "string"
            }
          },
          "metadata": {},
          "execution_count": 2
        }
      ]
    },
    {
      "cell_type": "code",
      "source": [
        "x = (5, 'progarm', 1+3j)\n",
        "print(x[1])\n",
        "print(x[0:3])\n",
        "\n",
        "\"\"\"\n",
        "output:\n",
        "program\n",
        "(5, 'program', (1+3j))\n",
        "\"\"\""
      ],
      "metadata": {
        "colab": {
          "base_uri": "https://localhost:8080/",
          "height": 72
        },
        "id": "kC2VjvGCWPL-",
        "outputId": "1f0be3fc-ad89-4c91-90ed-1a71f6ed2a33"
      },
      "execution_count": null,
      "outputs": [
        {
          "output_type": "stream",
          "name": "stdout",
          "text": [
            "progarm\n",
            "(5, 'progarm', (1+3j))\n"
          ]
        },
        {
          "output_type": "execute_result",
          "data": {
            "text/plain": [
              "\"\\noutput:\\nprogram\\n(5, 'program', (1+3j))\\n\""
            ],
            "application/vnd.google.colaboratory.intrinsic+json": {
              "type": "string"
            }
          },
          "metadata": {},
          "execution_count": 15
        }
      ]
    },
    {
      "cell_type": "code",
      "source": [
        "x = (5, 'program', 1+3j)\n",
        "x[1] = 'Polibatam'\n",
        "\n",
        "\n",
        "\"\"\"\n",
        "Output:\n",
        "'tuple' object does not support item assignment\n",
        "\"\"\""
      ],
      "metadata": {
        "colab": {
          "base_uri": "https://localhost:8080/",
          "height": 54
        },
        "id": "Tbbi3l-MXRP4",
        "outputId": "016f7810-7870-417b-86ff-12776d5ac6db"
      },
      "execution_count": 1,
      "outputs": [
        {
          "output_type": "stream",
          "name": "stdout",
          "text": [
            "[5, 'Polibatam', (1+3j)]\n"
          ]
        },
        {
          "output_type": "execute_result",
          "data": {
            "text/plain": [
              "\"\\nOutput:\\n'tuple' object does not support item assignment\\n\""
            ],
            "application/vnd.google.colaboratory.intrinsic+json": {
              "type": "string"
            }
          },
          "metadata": {},
          "execution_count": 1
        }
      ]
    },
    {
      "cell_type": "code",
      "source": [
        "# deklarasi variabel tuple\n",
        "number = (23, 43, 15, 34)\n",
        "\n",
        "# cara mengakses elemen dalam variabel tuple\n",
        "number[0]  # 23\n",
        "number[1]  # 43\n",
        "number[2]  # 15\n",
        "#lakukan print lalu amati hasilnya\n"
      ],
      "metadata": {
        "colab": {
          "base_uri": "https://localhost:8080/"
        },
        "id": "LL7mt-wbOJ4N",
        "outputId": "681f60f2-0854-4928-80f1-9e15731d4a75"
      },
      "execution_count": 10,
      "outputs": [
        {
          "output_type": "execute_result",
          "data": {
            "text/plain": [
              "15"
            ]
          },
          "metadata": {},
          "execution_count": 10
        }
      ]
    },
    {
      "cell_type": "code",
      "source": [
        "# deklarasi variabel set a dan b\n",
        "a = {1, 2, 3}\n",
        "b = {2, 3, 4}\n",
        "\n",
        "# operasi gabungan\n",
        "a.union(b)  # {1, 2, 3, 4}\n",
        "\n",
        "# operasi irisan\n",
        "a.intersection(b)  #{2, 3}\n",
        "\n",
        "# operasi perbedaan\n",
        "a.symmetric_difference(b)  # {1, 4}\n",
        "\n",
        "#lakukan print dan lihat hasilnya"
      ],
      "metadata": {
        "colab": {
          "base_uri": "https://localhost:8080/"
        },
        "id": "nboxl3fvQbat",
        "outputId": "c75fe966-eb2c-4987-d17e-6e5ed88e2df3"
      },
      "execution_count": 12,
      "outputs": [
        {
          "output_type": "execute_result",
          "data": {
            "text/plain": [
              "{1, 4}"
            ]
          },
          "metadata": {},
          "execution_count": 12
        }
      ]
    },
    {
      "cell_type": "code",
      "source": [
        "x = { 'name': 'Perseus Evans', 'age': 20, 'isMarried': False}\n",
        "\n",
        "print(type(x))\n",
        "\n",
        "\"\"\"\n",
        "Output:\n",
        "<class 'dict'>\n",
        "\"\"\""
      ],
      "metadata": {
        "colab": {
          "base_uri": "https://localhost:8080/",
          "height": 54
        },
        "id": "uC3c0YsiR4P6",
        "outputId": "bb76da9e-c5bd-4d89-80d6-81ca321b9b23"
      },
      "execution_count": 4,
      "outputs": [
        {
          "output_type": "stream",
          "name": "stdout",
          "text": [
            "<class 'dict'>\n"
          ]
        },
        {
          "output_type": "execute_result",
          "data": {
            "text/plain": [
              "\"\\nOutput:\\n<class 'dict'>\\n\""
            ],
            "application/vnd.google.colaboratory.intrinsic+json": {
              "type": "string"
            }
          },
          "metadata": {},
          "execution_count": 4
        }
      ]
    },
    {
      "cell_type": "code",
      "source": [
        "x = { 'name': 'Perseus Evans', 'age': 20, 'isMarried': False}\n",
        "\n",
        "print(x[0])\n",
        "\n",
        "\"\"\"\n",
        "Output:\n",
        "keyError: 0\n",
        "\"\"\""
      ],
      "metadata": {
        "id": "4ZEsIROlTNx_"
      },
      "execution_count": 3,
      "outputs": []
    },
    {
      "cell_type": "code",
      "source": [
        "x = { 'name': 'Perseus Evans', 'age': 20, 'isMarried': False}\n",
        "\n",
        "print(x ['name'])\n",
        "\n",
        "\"\"\"\n",
        "Output:\n",
        "Perseus Evans\n",
        "\"\"\"\n"
      ],
      "metadata": {
        "colab": {
          "base_uri": "https://localhost:8080/",
          "height": 54
        },
        "id": "3XGH-yBnVb2y",
        "outputId": "5477e3ff-2814-46c4-a6d0-c7a8f2220383"
      },
      "execution_count": 10,
      "outputs": [
        {
          "output_type": "stream",
          "name": "stdout",
          "text": [
            "Perseus Evans\n"
          ]
        },
        {
          "output_type": "execute_result",
          "data": {
            "text/plain": [
              "'\\nOutput:\\nPerseus Evans\\n'"
            ],
            "application/vnd.google.colaboratory.intrinsic+json": {
              "type": "string"
            }
          },
          "metadata": {},
          "execution_count": 10
        }
      ]
    },
    {
      "cell_type": "code",
      "source": [
        "x = { 'name': 'Perseus Evans', 'age': 20, 'isMarried': False}\n",
        "del x['isMarried']\n",
        "\n",
        "print(x)\n",
        "\n",
        "\"\"\"\n",
        "Output:\n",
        "{ 'name': 'Perseus Evans', 'age': 20}\n",
        "\"\"\"\n"
      ],
      "metadata": {
        "colab": {
          "base_uri": "https://localhost:8080/",
          "height": 54
        },
        "id": "K802cItvwJJi",
        "outputId": "e488f1fb-c05d-4096-9094-c64acebf2d12"
      },
      "execution_count": 12,
      "outputs": [
        {
          "output_type": "stream",
          "name": "stdout",
          "text": [
            "{'name': 'Perseus Evans', 'age': 20}\n"
          ]
        },
        {
          "output_type": "execute_result",
          "data": {
            "text/plain": [
              "\"\\nOutput:\\n{ 'name': 'Perseus Evans', 'age': 20}\\n\""
            ],
            "application/vnd.google.colaboratory.intrinsic+json": {
              "type": "string"
            }
          },
          "metadata": {},
          "execution_count": 12
        }
      ]
    },
    {
      "cell_type": "code",
      "source": [
        "x = { 'name': 'Perseus Evans', 'age': 20, 'isMarried': False}\n",
        "x ['name'] = \"Exvan\"\n",
        "\n",
        "print(x)\n",
        "\n",
        "\"\"\"\n",
        "Output:\n",
        "{ 'name': 'Exvan', 'age': 20, 'isMarried': False}\n",
        "\"\"\""
      ],
      "metadata": {
        "colab": {
          "base_uri": "https://localhost:8080/",
          "height": 54
        },
        "id": "dmY6PqinxePI",
        "outputId": "637b7557-11af-4d7a-e7d2-8e9fd5bc93db"
      },
      "execution_count": 14,
      "outputs": [
        {
          "output_type": "stream",
          "name": "stdout",
          "text": [
            "{'name': 'Exvan', 'age': 20, 'isMarried': False}\n"
          ]
        },
        {
          "output_type": "execute_result",
          "data": {
            "text/plain": [
              "\"\\nOutput:\\n{ 'name': 'Exvan', 'age': 20, 'isMarried': False}\\n\""
            ],
            "application/vnd.google.colaboratory.intrinsic+json": {
              "type": "string"
            }
          },
          "metadata": {},
          "execution_count": 14
        }
      ]
    },
    {
      "cell_type": "code",
      "source": [
        "# deklarasi variabel dictionary\n",
        "propertyDetail = {\"numFloors\": 1, \"propertyType\": \"Rumah\", \"hasTerrace\": True, \"hasGarage\": False}\n",
        "\n",
        "# cara mengakses elemen dalam variabel dictionary\n",
        "print(propertyDetail[\"numFloors\"])     # 1\n",
        "print(propertyDetail[\"propertyType\"])  # Rumah\n",
        "print(propertyDetail[\"hasTerrace\"])    # True\n",
        "print(propertyDetail[\"hasGarage\"])   # False # Corrected typo \"hasGararage\" to \"hasGarage\"\n",
        "\n",
        "# cara mengubah nilai elemen dalam variabel dictionary\n",
        "propertyDetail[\"hasTerrace\"] = False\n",
        "\n",
        "print(propertyDetail[\"hasTerrace\"])  # False\n",
        "\n",
        "#print(\"propertyDetail\"[\"propertyType\"]) # Commented out as it was causing a TypeError\n",
        "\n",
        "#lakukan print lalu amati hasilnya"
      ],
      "metadata": {
        "colab": {
          "base_uri": "https://localhost:8080/"
        },
        "id": "q3iz8qmSyqzc",
        "outputId": "176af816-1d79-4399-a28f-b3239a0016d7"
      },
      "execution_count": 16,
      "outputs": [
        {
          "output_type": "stream",
          "name": "stdout",
          "text": [
            "1\n",
            "Rumah\n",
            "True\n",
            "False\n",
            "False\n"
          ]
        }
      ]
    }
  ]
}
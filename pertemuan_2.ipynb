{
  "nbformat": 4,
  "nbformat_minor": 0,
  "metadata": {
    "colab": {
      "provenance": [],
      "authorship_tag": "ABX9TyPaRW3gPcsll5OZ43MdxFAF",
      "include_colab_link": true
    },
    "kernelspec": {
      "name": "python3",
      "display_name": "Python 3"
    },
    "language_info": {
      "name": "python"
    }
  },
  "cells": [
    {
      "cell_type": "markdown",
      "metadata": {
        "id": "view-in-github",
        "colab_type": "text"
      },
      "source": [
        "<a href=\"https://colab.research.google.com/github/Orlando2899/Pemograman-Dasar/blob/main/pertemuan_2.ipynb\" target=\"_parent\"><img src=\"https://colab.research.google.com/assets/colab-badge.svg\" alt=\"Open In Colab\"/></a>"
      ]
    },
    {
      "cell_type": "code",
      "execution_count": null,
      "metadata": {
        "colab": {
          "base_uri": "https://localhost:8080/"
        },
        "id": "PYMBg3tdJqIO",
        "outputId": "cc9220e4-c50f-406b-f24c-ba0715cde4cf"
      },
      "outputs": [
        {
          "output_type": "stream",
          "name": "stdout",
          "text": [
            "My first name is Gusmawan\n",
            "My last name is Orlando Pardosi\n",
            "My age is 26\n",
            "Am I married? False\n",
            "My first name is {'Gusmawan'}\n",
            "My last name is {'Orlando Pardosi'}\n",
            "My age is {26}\n",
            "Am I married? {False}\n",
            "Daftar inspeksi proyek:\n",
            "1. pemahaman terhadap rencana dan desain\n",
            "2. ketersediaan bahan dan peralatan\n",
            "3. pengawasan pekerjaan\n",
            "4. kualitas konstruksi\n",
            "5. keselamatan kerja\n",
            "6. koordinasi dengan pemilik proyek\n",
            "Waktu Datang (startTime): {'HH': 9, 'mm': 23, 'ss': 57}\n",
            "Waktu Pulang (endTime): {'HH': 15, 'mm': 25, 'ss': 43}\n",
            "Katalog A: {'Laptop', 'Monitor', 'Keyboard', 'Mouse'}\n",
            "Katalog B: {'Laptop', 'Tablet', 'Printer', 'Mouse'}\n",
            "Produk Diskon: ('Mouse', 'Tablet', 'Smartphone')\n",
            "\n",
            "Katalog Lengkap: {'Keyboard', 'Laptop', 'Mouse', 'Monitor', 'Tablet', 'Printer'}\n",
            "Produk Promo Aktif: {'Tablet', 'Mouse'}\n"
          ]
        }
      ],
      "source": [
        "firstName = \"Gusmawan\"\n",
        "lastName = \"Orlando Pardosi\"\n",
        "age = 26\n",
        "isMarried = False\n",
        "\n",
        "print(\"My first name is\", firstName)\n",
        "print(\"My last name is\", lastName)\n",
        "print(\"My age is\", age)\n",
        "print(\"Am I married?\", isMarried)\n",
        "\n",
        "\n",
        "\n",
        "firstName = {\"Gusmawan\"}\n",
        "lastName = {\"Orlando Pardosi\"}\n",
        "age = {26}\n",
        "isMarried = {False}\n",
        "\n",
        "print(\"My first name is\", firstName)\n",
        "print(\"My last name is\", lastName)\n",
        "print(\"My age is\", age)\n",
        "print(\"Am I married?\", isMarried)\n",
        "\n",
        "# Membuat variabel inspeksi berupa list\n",
        "inspeksi = [\n",
        "    \"pemahaman terhadap rencana dan desain\",\n",
        "    \"ketersediaan bahan dan peralatan\",\n",
        "    \"pengawasan pekerjaan\",\n",
        "    \"kualitas konstruksi\",\n",
        "    \"keselamatan kerja\",\n",
        "    \"koordinasi dengan pemilik proyek\"\n",
        "]\n",
        "\n",
        "# Menampilkan isi variabel inspeksi\n",
        "print(\"Daftar inspeksi proyek:\")\n",
        "for i, item in enumerate(inspeksi, start=1):\n",
        "    print(f\"{i}. {item}\")\n",
        "\n",
        "# Membuat dictionary untuk waktu datang (startTime)\n",
        "startTime = {\n",
        "    \"HH\": 9,\n",
        "    \"mm\": 23,\n",
        "    \"ss\": 57\n",
        "}\n",
        "\n",
        "# Membuat dictionary untuk waktu pulang (endTime)\n",
        "endTime = {\n",
        "    \"HH\": 15,\n",
        "    \"mm\": 25,\n",
        "    \"ss\": 43\n",
        "}\n",
        "\n",
        "# Menampilkan hasil\n",
        "print(\"Waktu Datang (startTime):\", startTime)\n",
        "print(\"Waktu Pulang (endTime):\", endTime)\n",
        "\n",
        "# Data contoh\n",
        "katalog_A = {\"Laptop\", \"Mouse\", \"Keyboard\", \"Monitor\"}\n",
        "katalog_B = {\"Printer\", \"Mouse\", \"Tablet\", \"Laptop\"}\n",
        "produk_diskon = (\"Mouse\", \"Tablet\", \"Smartphone\")\n",
        "\n",
        "# 1. Gabungkan katalog_A dan katalog_B ke dalam katalog_lengkap\n",
        "katalog_lengkap = katalog_A.union(katalog_B)\n",
        "\n",
        "# 2. Cari produk yang ada di katalog_lengkap dan juga ada di produk_diskon\n",
        "produk_promo_aktif = katalog_lengkap.intersection(produk_diskon)\n",
        "\n",
        "# Tampilkan hasil\n",
        "print(\"Katalog A:\", katalog_A)\n",
        "print(\"Katalog B:\", katalog_B)\n",
        "print(\"Produk Diskon:\", produk_diskon)\n",
        "print(\"\\nKatalog Lengkap:\", katalog_lengkap)\n",
        "print(\"Produk Promo Aktif:\", produk_promo_aktif)"
      ]
    }
  ]
}
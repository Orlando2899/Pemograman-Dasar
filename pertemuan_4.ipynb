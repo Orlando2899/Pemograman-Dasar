{
  "nbformat": 4,
  "nbformat_minor": 0,
  "metadata": {
    "colab": {
      "provenance": [],
      "authorship_tag": "ABX9TyNQtze/ZRlKCLStPqhg4cJq",
      "include_colab_link": true
    },
    "kernelspec": {
      "name": "python3",
      "display_name": "Python 3"
    },
    "language_info": {
      "name": "python"
    }
  },
  "cells": [
    {
      "cell_type": "markdown",
      "metadata": {
        "id": "view-in-github",
        "colab_type": "text"
      },
      "source": [
        "<a href=\"https://colab.research.google.com/github/Orlando2899/Pemograman-Dasar/blob/main/pertemuan_4.ipynb\" target=\"_parent\"><img src=\"https://colab.research.google.com/assets/colab-badge.svg\" alt=\"Open In Colab\"/></a>"
      ]
    },
    {
      "cell_type": "markdown",
      "source": [
        "LATIHAN"
      ],
      "metadata": {
        "id": "MRvLreOjkouL"
      }
    },
    {
      "cell_type": "code",
      "execution_count": null,
      "metadata": {
        "colab": {
          "base_uri": "https://localhost:8080/"
        },
        "id": "GI51PkZfjOUp",
        "outputId": "341a0767-900f-4534-978a-0609e4f15d22"
      },
      "outputs": [
        {
          "output_type": "stream",
          "name": "stdout",
          "text": [
            "Masukkan sebuah angka: 17\n",
            "Bukan keliapatan 5\n"
          ]
        }
      ],
      "source": [
        "angka = int(input(\"Masukkan sebuah angka: \"))\n",
        "if angka % 5 == 0:\n",
        "  print(\"Kelipatan 5\")\n",
        "else:\n",
        "  print(\"Bukan keliapatan 5\")"
      ]
    },
    {
      "cell_type": "code",
      "source": [
        "tahun = int(input(\"Masukkan tahun: \"))\n",
        "\n",
        "if tahun % 400 == 0:\n",
        "  print(\"Tahun kabisat\")\n",
        "elif tahun % 4 == 0 and tahun % 100 != 0:\n",
        "  print(\"Tahun kabisat\")\n",
        "else:\n",
        "  print(\"Bukan tahun kabisat\")"
      ],
      "metadata": {
        "colab": {
          "base_uri": "https://localhost:8080/"
        },
        "id": "2pwUqxcMktbw",
        "outputId": "4942def1-5521-4244-f3c3-3732be92b55f"
      },
      "execution_count": null,
      "outputs": [
        {
          "output_type": "stream",
          "name": "stdout",
          "text": [
            "Masukkan tahun: 2019\n",
            "Bukan tahun kabisat\n"
          ]
        }
      ]
    },
    {
      "cell_type": "code",
      "source": [
        "angka1 = int(input(\"Masukkan angka pertama: \"))\n",
        "angka2 = int(input(\"Masukkan angka kedua: \"))\n",
        "print(\"Pilih operasi:\")\n",
        "print(\"1. Penjumlahan\")\n",
        "print(\"2. Pengurangan\")\n",
        "print(\"3. Perkalihan\")\n",
        "print(\"4. Pembagian\")\n",
        "\n",
        "operasi = int(input(\"Masukkan pilihan (1-4): \"))\n",
        "\n",
        "if operasi == 1:\n",
        "  print(\"Hasil:\", angka1 + angka2)\n",
        "elif operasi == 2:\n",
        "  print(\"Hasil:\", angka1 + angka2)\n",
        "elif operasi == 3:\n",
        "  print(\"Hasil:\", angka1 + angka2)\n",
        "elif operasi == 4:\n",
        "  if angka2 != 0:\n",
        "    print(\"Hasil:\", angka1 + angka)\n",
        "  else:\n",
        "    print(\"Pembagian dengan nol tidak di perbolehkan\")\n",
        "else:\n",
        "  print(\"Pilihan tidak valid\")"
      ],
      "metadata": {
        "colab": {
          "base_uri": "https://localhost:8080/"
        },
        "id": "bco7_YIdmAip",
        "outputId": "d7d621f3-ba24-409c-a9ef-3c3480a9bd9b"
      },
      "execution_count": null,
      "outputs": [
        {
          "output_type": "stream",
          "name": "stdout",
          "text": [
            "Masukkan angka pertama: 2\n",
            "Masukkan angka kedua: 5\n",
            "Pilih operasi:\n",
            "1. Penjumlahan\n",
            "2. Pengurangan\n",
            "3. Perkalihan\n",
            "4. Pembagian\n",
            "Masukan pilihan (1-4): 1\n",
            "Hasil: 7\n"
          ]
        }
      ]
    },
    {
      "cell_type": "code",
      "source": [
        "bulan = int(input(\"Masukkan angka bulan (1-12): \"))\n",
        "\n",
        "if bulan == 1:\n",
        "  print(\"Januari\")\n",
        "elif bulan == 2:\n",
        "  print(\"Februari\")\n",
        "elif bulan == 3:\n",
        "  print(\"Maret\")\n",
        "elif bulan == 4:\n",
        "  print(\"April\")\n",
        "elif bulan == 5:\n",
        "  print(\"Mei\")\n",
        "elif bulan == 6:\n",
        "  print(\"Juni\")\n",
        "elif bulan == 7:\n",
        "  print(\"Juli\")\n",
        "elif bulan == 8:\n",
        "  print(\"Agustus\")\n",
        "elif bulan == 9:\n",
        "  print(\"September\")\n",
        "elif bulan == 10:\n",
        "  print(\"Oktober\")\n",
        "elif bulan == 11:\n",
        "  print(\"November\")\n",
        "elif bulan == 12:\n",
        "  print(\"Desember\")\n",
        "else:\n",
        "  print(\"Input salah\")"
      ],
      "metadata": {
        "colab": {
          "base_uri": "https://localhost:8080/"
        },
        "id": "tCV2RIGNoshK",
        "outputId": "91c01891-4baf-47d8-94e6-31b2bb9430ef"
      },
      "execution_count": null,
      "outputs": [
        {
          "output_type": "stream",
          "name": "stdout",
          "text": [
            "Masukkan angka bulan (1-12): 8\n",
            "Agustus\n"
          ]
        }
      ]
    },
    {
      "cell_type": "code",
      "source": [
        "jam = int(input(\"Masukkan jam (0-23): \"))\n",
        "\n",
        "if 0 <= jam <= 11:\n",
        "  print(\"Selamat pagi\")\n",
        "elif 12 <= jam <= 15:\n",
        "  print(\"Selamat siang\")\n",
        "elif 16 <= jam <= 18:\n",
        "  print(\"Selamat sore\")\n",
        "elif 19 <= jam <= 23:\n",
        "  print(\"Selamat malam\")\n",
        "else:\n",
        "  print(\"Input tidak valid\")\n"
      ],
      "metadata": {
        "colab": {
          "base_uri": "https://localhost:8080/"
        },
        "id": "9VO_DtOxoH_N",
        "outputId": "0f5ea4cc-265c-4d98-bad2-fb91064cbbe5"
      },
      "execution_count": null,
      "outputs": [
        {
          "output_type": "stream",
          "name": "stdout",
          "text": [
            "Masukkan jam (0-23): 12\n",
            "Selamat siang\n"
          ]
        }
      ]
    },
    {
      "cell_type": "markdown",
      "source": [
        "TUGAS"
      ],
      "metadata": {
        "id": "b9U4winBtHLX"
      }
    },
    {
      "cell_type": "code",
      "source": [
        "print(\"============================\")\n",
        "print(\"SELAMAT DATANG DI KAFE GEMINI\")\n",
        "print(\"============================\")\n",
        "print(\"Menu Makanan & Minuman\")\n",
        "print(\"1. Kopi Hitam   - Rp 12.000\")\n",
        "print(\"2. Teh Manis    - Rp  8.000\")\n",
        "print(\"3. Roti Bakar   - Rp 15.000\")\n",
        "print(\"4. Mie Instan   - Rp 10.000\")\n",
        "print(\"===========================\")\n",
        "\n",
        "pilihan = input(\"Silakan masukan nomor pilihan Anda (1-4): \")\n",
        "if pilihan == \"1\":\n",
        "    nama_pesanan = \"Kopi Hitam\"\n",
        "    harga = 12000\n",
        "elif pilihan == \"2\":\n",
        "    nama_pesanan = \"Teh Manis\"\n",
        "    harga = 8000\n",
        "elif pilihan == \"3\":\n",
        "    nama_pesanan = \"Roti Bakar\"\n",
        "    harga = 15000\n",
        "elif pilihan == \"4\":\n",
        "    nama_pesanan = \"Mie Instan\"\n",
        "    harga = 10000\n",
        "else:\n",
        "    print(\"Pilihan tidak valid, program berhenti.\")\n",
        "    exit()\n",
        "\n",
        "\n",
        "jumlah = int(input(f\"Masukkan jumlah {nama_pesanan} yang Anda pesan: \"))\n",
        "\n",
        "total = harga * jumlah\n",
        "print(f\"Total harga sebelum diskon: Rp {total}\")\n",
        "\n",
        "# Menentukan diskon berdasarkan total belanja\n",
        "if total >= 12000:\n",
        "    diskon = 0.7   # 70%\n",
        "elif total >= 5000:\n",
        "    diskon = 0.5   # 50%\n",
        "elif total >= 2000:\n",
        "    diskon = 0.3   # 30%\n",
        "else:\n",
        "    diskon = 0.0   # tidak ada diskon\n",
        "\n",
        "# Hitung total bayar setelah diskon\n",
        "potongan = total * diskon\n",
        "total_bayar = total - potongan\n",
        "\n",
        "print(f\"Diskon yang Anda dapat: {int(diskon*50)}%\")\n",
        "print(f\"Potongan harga: Rp {potongan}\")\n",
        "print(f\"Total yang harus dibayar: Rp {total_bayar}\")\n",
        "print(\"===================================\")\n",
        "print(\"Terima kasih telah berbelanja di Kafe Gemini!\")"
      ],
      "metadata": {
        "colab": {
          "base_uri": "https://localhost:8080/"
        },
        "id": "OqsnHfDStJmj",
        "outputId": "e6e48d01-f0a2-49fe-ca14-623df7b547b7"
      },
      "execution_count": null,
      "outputs": [
        {
          "output_type": "stream",
          "name": "stdout",
          "text": [
            "============================\n",
            "SELAMAT DATANG DI KAFE GEMINI\n",
            "============================\n",
            "Menu Makanan & Minuman\n",
            "1. Kopi Hitam   - Rp 12.000\n",
            "2. Teh Manis    - Rp  8.000\n",
            "3. Roti Bakar   - Rp 15.000\n",
            "4. Mie Instan   - Rp 10.000\n",
            "===========================\n",
            "Silakan masukan nomor pilihan Anda (1-4): 3\n",
            "Masukkan jumlah Roti Bakar yang Anda pesan: 2\n",
            "Total harga sebelum diskon: Rp 30000\n",
            "Diskon yang Anda dapat: 35%\n",
            "Potongan harga: Rp 21000.0\n",
            "Total yang harus dibayar: Rp 9000.0\n",
            "===================================\n",
            "Terima kasih telah berbelanja di Kafe Gemini!\n"
          ]
        }
      ]
    }
  ]
}